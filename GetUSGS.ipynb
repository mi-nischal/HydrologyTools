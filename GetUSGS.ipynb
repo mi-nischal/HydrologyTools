{
 "cells": [
  {
   "cell_type": "markdown",
   "metadata": {},
   "source": [
    "### Download Data: USGS Data Retrieval (R Package )\n"
   ]
  },
  {
   "cell_type": "code",
   "execution_count": 6,
   "metadata": {},
   "outputs": [],
   "source": [
    "source('rutils.r')  # Load custom functions\n",
    "data_dir <- getwd() # Assign working directory"
   ]
  },
  {
   "cell_type": "markdown",
   "metadata": {},
   "source": [
    "\n",
    "##### Goto USGS State Webpage to view list of gages"
   ]
  },
  {
   "cell_type": "code",
   "execution_count": 2,
   "metadata": {
    "collapsed": true
   },
   "outputs": [],
   "source": [
    "state = \"NY\"\n",
    "GotoUSGS (state)"
   ]
  },
  {
   "cell_type": "markdown",
   "metadata": {},
   "source": [
    "##### Get Info for Selected Gages"
   ]
  },
  {
   "cell_type": "code",
   "execution_count": 3,
   "metadata": {},
   "outputs": [
    {
     "data": {
      "text/html": [
       "<table>\n",
       "<thead><tr><th scope=col>site_no</th><th scope=col>srsname</th><th scope=col>begin_date</th><th scope=col>end_date</th><th scope=col>count_nu</th><th scope=col>parameter_units</th><th scope=col>station_nm</th></tr></thead>\n",
       "<tbody>\n",
       "\t<tr><td>01511500                        </td><td>Stream flow, mean. daily        </td><td>1994-10-01                      </td><td>2004-09-23                      </td><td> 27885                          </td><td>ft3/s                           </td><td>TIOUGHNIOGA RIVER AT ITASKA NY  </td></tr>\n",
       "\t<tr><td>01511500                        </td><td>Stream flow, mean. daily        </td><td>1953-04-23                      </td><td>1971-03-02                      </td><td>     4                          </td><td>ft3/s                           </td><td>TIOUGHNIOGA RIVER AT ITASKA NY  </td></tr>\n",
       "\t<tr><td>01511500                        </td><td>Height, gage                    </td><td>1970-04-07                      </td><td>1970-04-07                      </td><td>     1                          </td><td>ft                              </td><td>TIOUGHNIOGA RIVER AT ITASKA NY  </td></tr>\n",
       "\t<tr><td>01511500                        </td><td>Height, gage                    </td><td>2017-05-31                      </td><td>2017-09-28                      </td><td>   120                          </td><td>ft                              </td><td>TIOUGHNIOGA RIVER AT ITASKA NY  </td></tr>\n",
       "\t<tr><td>01509520                        </td><td>Height, gage                    </td><td>2017-05-31                      </td><td>2017-09-28                      </td><td>   120                          </td><td>ft                              </td><td>TIOUGHNIOGA RIVER AT LISLE NY   </td></tr>\n",
       "\t<tr><td>01509000                        </td><td>Stream flow, mean. daily        </td><td>1938-05-20                      </td><td>2017-09-27                      </td><td> 28986                          </td><td>ft3/s                           </td><td>TIOUGHNIOGA RIVER AT CORTLAND NY</td></tr>\n",
       "\t<tr><td>01509000                        </td><td>Stream flow, mean. daily        </td><td>1985-10-02                      </td><td>2007-09-30                      </td><td>284054                          </td><td>ft3/s                           </td><td>TIOUGHNIOGA RIVER AT CORTLAND NY</td></tr>\n",
       "\t<tr><td>01509000                        </td><td>Stream flow, mean. daily        </td><td>1983-09-07                      </td><td>2017-09-28                      </td><td> 12440                          </td><td>ft3/s                           </td><td>TIOUGHNIOGA RIVER AT CORTLAND NY</td></tr>\n",
       "\t<tr><td>01509000                        </td><td>Stream flow, mean. daily        </td><td>1954-04-08                      </td><td>1972-06-23                      </td><td>     4                          </td><td>ft3/s                           </td><td>TIOUGHNIOGA RIVER AT CORTLAND NY</td></tr>\n",
       "\t<tr><td>01509000                        </td><td>Height, gage                    </td><td>1970-04-03                      </td><td>1972-06-23                      </td><td>     2                          </td><td>ft                              </td><td>TIOUGHNIOGA RIVER AT CORTLAND NY</td></tr>\n",
       "\t<tr><td>01509000                        </td><td>Height, gage                    </td><td>2007-10-01                      </td><td>2017-09-28                      </td><td>  3650                          </td><td>ft                              </td><td>TIOUGHNIOGA RIVER AT CORTLAND NY</td></tr>\n",
       "</tbody>\n",
       "</table>\n"
      ],
      "text/latex": [
       "\\begin{tabular}{r|lllllll}\n",
       " site\\_no & srsname & begin\\_date & end\\_date & count\\_nu & parameter\\_units & station\\_nm\\\\\n",
       "\\hline\n",
       "\t 01511500                         & Stream flow, mean. daily         & 1994-10-01                       & 2004-09-23                       &  27885                           & ft3/s                            & TIOUGHNIOGA RIVER AT ITASKA NY  \\\\\n",
       "\t 01511500                         & Stream flow, mean. daily         & 1953-04-23                       & 1971-03-02                       &      4                           & ft3/s                            & TIOUGHNIOGA RIVER AT ITASKA NY  \\\\\n",
       "\t 01511500                         & Height, gage                     & 1970-04-07                       & 1970-04-07                       &      1                           & ft                               & TIOUGHNIOGA RIVER AT ITASKA NY  \\\\\n",
       "\t 01511500                         & Height, gage                     & 2017-05-31                       & 2017-09-28                       &    120                           & ft                               & TIOUGHNIOGA RIVER AT ITASKA NY  \\\\\n",
       "\t 01509520                         & Height, gage                     & 2017-05-31                       & 2017-09-28                       &    120                           & ft                               & TIOUGHNIOGA RIVER AT LISLE NY   \\\\\n",
       "\t 01509000                         & Stream flow, mean. daily         & 1938-05-20                       & 2017-09-27                       &  28986                           & ft3/s                            & TIOUGHNIOGA RIVER AT CORTLAND NY\\\\\n",
       "\t 01509000                         & Stream flow, mean. daily         & 1985-10-02                       & 2007-09-30                       & 284054                           & ft3/s                            & TIOUGHNIOGA RIVER AT CORTLAND NY\\\\\n",
       "\t 01509000                         & Stream flow, mean. daily         & 1983-09-07                       & 2017-09-28                       &  12440                           & ft3/s                            & TIOUGHNIOGA RIVER AT CORTLAND NY\\\\\n",
       "\t 01509000                         & Stream flow, mean. daily         & 1954-04-08                       & 1972-06-23                       &      4                           & ft3/s                            & TIOUGHNIOGA RIVER AT CORTLAND NY\\\\\n",
       "\t 01509000                         & Height, gage                     & 1970-04-03                       & 1972-06-23                       &      2                           & ft                               & TIOUGHNIOGA RIVER AT CORTLAND NY\\\\\n",
       "\t 01509000                         & Height, gage                     & 2007-10-01                       & 2017-09-28                       &   3650                           & ft                               & TIOUGHNIOGA RIVER AT CORTLAND NY\\\\\n",
       "\\end{tabular}\n"
      ],
      "text/markdown": [
       "\n",
       "site_no | srsname | begin_date | end_date | count_nu | parameter_units | station_nm | \n",
       "|---|---|---|---|---|---|---|---|---|---|---|\n",
       "| 01511500                         | Stream flow, mean. daily         | 1994-10-01                       | 2004-09-23                       |  27885                           | ft3/s                            | TIOUGHNIOGA RIVER AT ITASKA NY   | \n",
       "| 01511500                         | Stream flow, mean. daily         | 1953-04-23                       | 1971-03-02                       |      4                           | ft3/s                            | TIOUGHNIOGA RIVER AT ITASKA NY   | \n",
       "| 01511500                         | Height, gage                     | 1970-04-07                       | 1970-04-07                       |      1                           | ft                               | TIOUGHNIOGA RIVER AT ITASKA NY   | \n",
       "| 01511500                         | Height, gage                     | 2017-05-31                       | 2017-09-28                       |    120                           | ft                               | TIOUGHNIOGA RIVER AT ITASKA NY   | \n",
       "| 01509520                         | Height, gage                     | 2017-05-31                       | 2017-09-28                       |    120                           | ft                               | TIOUGHNIOGA RIVER AT LISLE NY    | \n",
       "| 01509000                         | Stream flow, mean. daily         | 1938-05-20                       | 2017-09-27                       |  28986                           | ft3/s                            | TIOUGHNIOGA RIVER AT CORTLAND NY | \n",
       "| 01509000                         | Stream flow, mean. daily         | 1985-10-02                       | 2007-09-30                       | 284054                           | ft3/s                            | TIOUGHNIOGA RIVER AT CORTLAND NY | \n",
       "| 01509000                         | Stream flow, mean. daily         | 1983-09-07                       | 2017-09-28                       |  12440                           | ft3/s                            | TIOUGHNIOGA RIVER AT CORTLAND NY | \n",
       "| 01509000                         | Stream flow, mean. daily         | 1954-04-08                       | 1972-06-23                       |      4                           | ft3/s                            | TIOUGHNIOGA RIVER AT CORTLAND NY | \n",
       "| 01509000                         | Height, gage                     | 1970-04-03                       | 1972-06-23                       |      2                           | ft                               | TIOUGHNIOGA RIVER AT CORTLAND NY | \n",
       "| 01509000                         | Height, gage                     | 2007-10-01                       | 2017-09-28                       |   3650                           | ft                               | TIOUGHNIOGA RIVER AT CORTLAND NY | \n",
       "\n",
       "\n"
      ],
      "text/plain": [
       "   site_no  srsname                  begin_date end_date   count_nu\n",
       "1  01511500 Stream flow, mean. daily 1994-10-01 2004-09-23  27885  \n",
       "2  01511500 Stream flow, mean. daily 1953-04-23 1971-03-02      4  \n",
       "3  01511500 Height, gage             1970-04-07 1970-04-07      1  \n",
       "4  01511500 Height, gage             2017-05-31 2017-09-28    120  \n",
       "5  01509520 Height, gage             2017-05-31 2017-09-28    120  \n",
       "6  01509000 Stream flow, mean. daily 1938-05-20 2017-09-27  28986  \n",
       "7  01509000 Stream flow, mean. daily 1985-10-02 2007-09-30 284054  \n",
       "8  01509000 Stream flow, mean. daily 1983-09-07 2017-09-28  12440  \n",
       "9  01509000 Stream flow, mean. daily 1954-04-08 1972-06-23      4  \n",
       "10 01509000 Height, gage             1970-04-03 1972-06-23      2  \n",
       "11 01509000 Height, gage             2007-10-01 2017-09-28   3650  \n",
       "   parameter_units station_nm                      \n",
       "1  ft3/s           TIOUGHNIOGA RIVER AT ITASKA NY  \n",
       "2  ft3/s           TIOUGHNIOGA RIVER AT ITASKA NY  \n",
       "3  ft              TIOUGHNIOGA RIVER AT ITASKA NY  \n",
       "4  ft              TIOUGHNIOGA RIVER AT ITASKA NY  \n",
       "5  ft              TIOUGHNIOGA RIVER AT LISLE NY   \n",
       "6  ft3/s           TIOUGHNIOGA RIVER AT CORTLAND NY\n",
       "7  ft3/s           TIOUGHNIOGA RIVER AT CORTLAND NY\n",
       "8  ft3/s           TIOUGHNIOGA RIVER AT CORTLAND NY\n",
       "9  ft3/s           TIOUGHNIOGA RIVER AT CORTLAND NY\n",
       "10 ft              TIOUGHNIOGA RIVER AT CORTLAND NY\n",
       "11 ft              TIOUGHNIOGA RIVER AT CORTLAND NY"
      ]
     },
     "metadata": {},
     "output_type": "display_data"
    }
   ],
   "source": [
    "gages <- c(\"01509000\",\"01509520\", \"01511500\") # Add gage ID's to list\n",
    "df <- gages[0]\n",
    "\n",
    "for (siteNo in gages[]) {\n",
    "    data <- DataTable(siteNo)\n",
    "    df<- rbind(data, df)\n",
    "}\n",
    "\n",
    "row.names(df) <- NULL\n",
    "df"
   ]
  },
  {
   "cell_type": "markdown",
   "metadata": {},
   "source": [
    "#### Get Daily & Instantaneous Data"
   ]
  },
  {
   "cell_type": "code",
   "execution_count": 7,
   "metadata": {},
   "outputs": [
    {
     "name": "stdout",
     "output_type": "stream",
     "text": [
      "[1] \"Data for 01509000 written to file: C:/Users/slawler/Repos/HydrologyTools/01509000_00060_dv.tsv\"\n",
      "[1] \"Data for 01509000 written to file: C:/Users/slawler/Repos/HydrologyTools/01509000_00060_iv.tsv\"\n",
      "[1] \"No 00065 Data for 01509000 \"\n",
      "[1] \"Data for 01509000 written to file: C:/Users/slawler/Repos/HydrologyTools/01509000_00065_iv.tsv\"\n",
      "[1] \"No 00060 Data for 01509520 \"\n",
      "[1] \"No 00060 Data for 01509520 \"\n",
      "[1] \"No 00065 Data for 01509520 \"\n",
      "[1] \"Data for 01509520 written to file: C:/Users/slawler/Repos/HydrologyTools/01509520_00065_iv.tsv\"\n",
      "[1] \"No 00060 Data for 01511500 \"\n",
      "[1] \"No 00060 Data for 01511500 \"\n",
      "[1] \"No 00065 Data for 01511500 \"\n",
      "[1] \"Data for 01511500 written to file: C:/Users/slawler/Repos/HydrologyTools/01511500_00065_iv.tsv\"\n"
     ]
    }
   ],
   "source": [
    "pcodes <- c(\"00060\",\"00065\") # Discharge & Stage\n",
    "\n",
    "for (siteNo in gages) {\n",
    "    for (pcode in pcodes){\n",
    "        print(WriteData2File(data_dir,'d', siteNo, pcode))\n",
    "        print(WriteData2File(data_dir,'i', siteNo, pcode))\n",
    "        }\n",
    "    }"
   ]
  },
  {
   "cell_type": "markdown",
   "metadata": {},
   "source": [
    "##### Write Table of Metadata"
   ]
  },
  {
   "cell_type": "code",
   "execution_count": 8,
   "metadata": {},
   "outputs": [],
   "source": [
    "df = gages[1]\n",
    "idxs = c(2:length(gages))\n",
    "\n",
    "for (siteNo in gages) {\n",
    "    siteINFO <- readNWISsite(siteNo)\n",
    "    df <- rbind(df,siteINFO)    \n",
    "}\n",
    "\n",
    "df <- df[-1, ] #Remove first row if it is trash\n",
    "df[sapply(df, function(x) all(is.na(x)))] <- NULL\n",
    "\n",
    "meta_table = file.path(data_dir,  \"gage_metadata.tsv\")\n",
    "write.table(df, meta_table, row.names=FALSE, na=\"NaN\", sep=\"\\t\", quote=FALSE)"
   ]
  }
 ],
 "metadata": {
  "anaconda-cloud": {},
  "kernelspec": {
   "display_name": "R",
   "language": "R",
   "name": "ir"
  },
  "language_info": {
   "codemirror_mode": "r",
   "file_extension": ".r",
   "mimetype": "text/x-r-source",
   "name": "R",
   "pygments_lexer": "r",
   "version": "3.3.2"
  }
 },
 "nbformat": 4,
 "nbformat_minor": 2
}
