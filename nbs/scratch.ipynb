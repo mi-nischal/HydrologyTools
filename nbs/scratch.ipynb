{
 "cells": [
  {
   "cell_type": "code",
   "execution_count": 115,
   "metadata": {
    "collapsed": true
   },
   "outputs": [],
   "source": [
    "from importlib import reload\n",
    "import utils; reload(utils)\n",
    "from utils import *\n",
    "import ny_clean_nb; reload(ny_clean_nb)\n",
    "from ny_clean_nb import *"
   ]
  },
  {
   "cell_type": "code",
   "execution_count": 122,
   "metadata": {},
   "outputs": [],
   "source": [
    "rasdata = r'p:\\02\\NY\\Broome_Co_36007C\\LAMP2\\TECH\\Analysis\\Modeling\\WorkingModels\\Lisle_WhitPt\\LAMPRAS\\Lisle_WhitPt.p05.hdf'\n",
    "df = GetRasWSE(rasdata,'LAMP')\n",
    "df.to_csv(r'P:\\02\\NY\\Broome_Co_36007C\\LAMP2\\TECH\\Analysis\\Modeling\\WorkingModels\\Lisle_WhitPt\\LAMPRAS\\shapes\\wses.txt')"
   ]
  }
 ],
 "metadata": {
  "kernelspec": {
   "display_name": "Python [conda root]",
   "language": "python",
   "name": "conda-root-py"
  },
  "language_info": {
   "codemirror_mode": {
    "name": "ipython",
    "version": 3
   },
   "file_extension": ".py",
   "mimetype": "text/x-python",
   "name": "python",
   "nbconvert_exporter": "python",
   "pygments_lexer": "ipython3",
   "version": "3.5.2"
  }
 },
 "nbformat": 4,
 "nbformat_minor": 1
}
